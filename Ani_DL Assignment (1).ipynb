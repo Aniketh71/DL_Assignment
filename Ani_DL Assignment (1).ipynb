{
 "cells": [
  {
   "cell_type": "code",
   "execution_count": 1,
   "id": "5aa27760",
   "metadata": {},
   "outputs": [],
   "source": [
    "import numpy as np\n",
    "import pandas as pd"
   ]
  },
  {
   "cell_type": "code",
   "execution_count": 4,
   "id": "943965b3",
   "metadata": {},
   "outputs": [],
   "source": [
    "df = pd.read_csv(\"sonar_csv.csv\", header=None)"
   ]
  },
  {
   "cell_type": "code",
   "execution_count": 5,
   "id": "d0cc7979",
   "metadata": {},
   "outputs": [
    {
     "name": "stdout",
     "output_type": "stream",
     "text": [
      "         0       1       2       3       4       5       6       7       8   \\\n",
      "137  0.1088  0.1278  0.0926  0.1234  0.1276  0.1731  0.1948  0.4262  0.6828   \n",
      "36   0.0206  0.0132  0.0533  0.0569  0.0647  0.1432  0.1344  0.2041  0.1571   \n",
      "102  0.0335  0.0134  0.0696   0.118  0.0348   0.118  0.1948  0.1607  0.3036   \n",
      "115  0.0114  0.0222  0.0269  0.0384  0.1217  0.2062  0.1489  0.0929   0.135   \n",
      "105  0.0307  0.0523  0.0653  0.0521  0.0611  0.0577  0.0665  0.0664   0.146   \n",
      "\n",
      "         9   ...      51      52      53      54      55      56      57  \\\n",
      "137  0.5761  ...  0.0455  0.0213  0.0082  0.0124  0.0167  0.0103  0.0205   \n",
      "36   0.1573  ...  0.0386  0.0147  0.0018    0.01  0.0096  0.0077   0.018   \n",
      "102  0.4372  ...  0.0244  0.0232  0.0093  0.0159  0.0193  0.0032  0.0377   \n",
      "115  0.1799  ...  0.0269  0.0152  0.0257  0.0097  0.0041   0.005  0.0145   \n",
      "105  0.2792  ...  0.0321  0.0189  0.0137  0.0277  0.0152  0.0052  0.0121   \n",
      "\n",
      "         58      59    60  \n",
      "137  0.0178  0.0187  Mine  \n",
      "36   0.0109   0.007  Rock  \n",
      "102  0.0126  0.0156  Mine  \n",
      "115  0.0103  0.0025  Mine  \n",
      "105  0.0124  0.0055  Mine  \n",
      "\n",
      "[5 rows x 61 columns]\n"
     ]
    }
   ],
   "source": [
    "print(df.sample(5))"
   ]
  },
  {
   "cell_type": "code",
   "execution_count": 6,
   "id": "4e7f73d3",
   "metadata": {},
   "outputs": [],
   "source": [
    "X = df.drop(60, axis=1)\n",
    "y = df[60]"
   ]
  },
  {
   "cell_type": "code",
   "execution_count": 7,
   "id": "e7276753",
   "metadata": {},
   "outputs": [],
   "source": [
    "y = pd.get_dummies(y, drop_first=True)"
   ]
  },
  {
   "cell_type": "code",
   "execution_count": 8,
   "id": "e4ee3aab",
   "metadata": {},
   "outputs": [
    {
     "name": "stdout",
     "output_type": "stream",
     "text": [
      "     Mine  Rock\n",
      "126     1     0\n",
      "46      0     1\n",
      "132     1     0\n",
      "96      0     1\n",
      "31      0     1\n"
     ]
    }
   ],
   "source": [
    "print(y.sample(5))"
   ]
  },
  {
   "cell_type": "markdown",
   "id": "611b7a2e",
   "metadata": {},
   "source": [
    "Dataset Splitting"
   ]
  },
  {
   "cell_type": "code",
   "execution_count": 9,
   "id": "0535aec2",
   "metadata": {},
   "outputs": [],
   "source": [
    "from sklearn.model_selection import train_test_split\n",
    "X_train, X_test, y_train, y_test = train_test_split(X, y, test_size=0.25, random_state=1)"
   ]
  },
  {
   "cell_type": "code",
   "execution_count": null,
   "id": "a6e50757",
   "metadata": {},
   "outputs": [],
   "source": []
  }
 ],
 "metadata": {
  "kernelspec": {
   "display_name": "Python 3 (ipykernel)",
   "language": "python",
   "name": "python3"
  },
  "language_info": {
   "codemirror_mode": {
    "name": "ipython",
    "version": 3
   },
   "file_extension": ".py",
   "mimetype": "text/x-python",
   "name": "python",
   "nbconvert_exporter": "python",
   "pygments_lexer": "ipython3",
   "version": "3.9.7"
  }
 },
 "nbformat": 4,
 "nbformat_minor": 5
}
